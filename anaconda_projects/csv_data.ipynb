{
 "cells": [
  {
   "cell_type": "markdown",
   "id": "6d06106c",
   "metadata": {},
   "source": [
    "### Dataframe setup"
   ]
  },
  {
   "cell_type": "code",
   "execution_count": 2,
   "id": "8d63ca9e",
   "metadata": {},
   "outputs": [
    {
     "data": {
      "text/html": [
       "<div>\n",
       "<style scoped>\n",
       "    .dataframe tbody tr th:only-of-type {\n",
       "        vertical-align: middle;\n",
       "    }\n",
       "\n",
       "    .dataframe tbody tr th {\n",
       "        vertical-align: top;\n",
       "    }\n",
       "\n",
       "    .dataframe thead th {\n",
       "        text-align: right;\n",
       "    }\n",
       "</style>\n",
       "<table border=\"1\" class=\"dataframe\">\n",
       "  <thead>\n",
       "    <tr style=\"text-align: right;\">\n",
       "      <th></th>\n",
       "      <th>patient_id</th>\n",
       "      <th>gender</th>\n",
       "      <th>age</th>\n",
       "      <th>race</th>\n",
       "      <th>ESR1</th>\n",
       "      <th>PGR</th>\n",
       "      <th>ERBB2</th>\n",
       "      <th>subtype</th>\n",
       "    </tr>\n",
       "  </thead>\n",
       "  <tbody>\n",
       "    <tr>\n",
       "      <th>0</th>\n",
       "      <td>TCGA-E2-A1IU</td>\n",
       "      <td>female</td>\n",
       "      <td>60</td>\n",
       "      <td>white</td>\n",
       "      <td>Positive</td>\n",
       "      <td>Positive</td>\n",
       "      <td>Negative</td>\n",
       "      <td>Luminal A</td>\n",
       "    </tr>\n",
       "    <tr>\n",
       "      <th>1</th>\n",
       "      <td>TCGA-A2-A04W</td>\n",
       "      <td>female</td>\n",
       "      <td>50</td>\n",
       "      <td>white</td>\n",
       "      <td>Negative</td>\n",
       "      <td>Negative</td>\n",
       "      <td>Positive</td>\n",
       "      <td>HER2-enriched</td>\n",
       "    </tr>\n",
       "    <tr>\n",
       "      <th>2</th>\n",
       "      <td>TCGA-A7-A26E</td>\n",
       "      <td>female</td>\n",
       "      <td>71</td>\n",
       "      <td>white</td>\n",
       "      <td>Positive</td>\n",
       "      <td>Positive</td>\n",
       "      <td>Negative</td>\n",
       "      <td>Luminal A</td>\n",
       "    </tr>\n",
       "    <tr>\n",
       "      <th>3</th>\n",
       "      <td>TCGA-A8-A07W</td>\n",
       "      <td>female</td>\n",
       "      <td>76</td>\n",
       "      <td>not reported</td>\n",
       "      <td>Positive</td>\n",
       "      <td>Positive</td>\n",
       "      <td>Negative</td>\n",
       "      <td>Luminal A</td>\n",
       "    </tr>\n",
       "    <tr>\n",
       "      <th>4</th>\n",
       "      <td>TCGA-D8-A1XY</td>\n",
       "      <td>female</td>\n",
       "      <td>74</td>\n",
       "      <td>white</td>\n",
       "      <td>Positive</td>\n",
       "      <td>Positive</td>\n",
       "      <td>Positive</td>\n",
       "      <td>Luminal B</td>\n",
       "    </tr>\n",
       "    <tr>\n",
       "      <th>...</th>\n",
       "      <td>...</td>\n",
       "      <td>...</td>\n",
       "      <td>...</td>\n",
       "      <td>...</td>\n",
       "      <td>...</td>\n",
       "      <td>...</td>\n",
       "      <td>...</td>\n",
       "      <td>...</td>\n",
       "    </tr>\n",
       "    <tr>\n",
       "      <th>777</th>\n",
       "      <td>TCGA-D8-A147</td>\n",
       "      <td>female</td>\n",
       "      <td>45</td>\n",
       "      <td>white</td>\n",
       "      <td>Negative</td>\n",
       "      <td>Negative</td>\n",
       "      <td>Negative</td>\n",
       "      <td>Triple Negative</td>\n",
       "    </tr>\n",
       "    <tr>\n",
       "      <th>778</th>\n",
       "      <td>TCGA-B6-A40C</td>\n",
       "      <td>female</td>\n",
       "      <td>51</td>\n",
       "      <td>white</td>\n",
       "      <td>Positive</td>\n",
       "      <td>Positive</td>\n",
       "      <td>Negative</td>\n",
       "      <td>Luminal A</td>\n",
       "    </tr>\n",
       "    <tr>\n",
       "      <th>779</th>\n",
       "      <td>TCGA-A2-A0CP</td>\n",
       "      <td>female</td>\n",
       "      <td>60</td>\n",
       "      <td>white</td>\n",
       "      <td>Positive</td>\n",
       "      <td>Positive</td>\n",
       "      <td>Negative</td>\n",
       "      <td>Luminal A</td>\n",
       "    </tr>\n",
       "    <tr>\n",
       "      <th>780</th>\n",
       "      <td>TCGA-A2-A3XZ</td>\n",
       "      <td>female</td>\n",
       "      <td>46</td>\n",
       "      <td>black or african american</td>\n",
       "      <td>Negative</td>\n",
       "      <td>Negative</td>\n",
       "      <td>Positive</td>\n",
       "      <td>HER2-enriched</td>\n",
       "    </tr>\n",
       "    <tr>\n",
       "      <th>781</th>\n",
       "      <td>TCGA-E9-A295</td>\n",
       "      <td>female</td>\n",
       "      <td>71</td>\n",
       "      <td>white</td>\n",
       "      <td>Positive</td>\n",
       "      <td>Positive</td>\n",
       "      <td>Positive</td>\n",
       "      <td>Luminal B</td>\n",
       "    </tr>\n",
       "  </tbody>\n",
       "</table>\n",
       "<p>782 rows × 8 columns</p>\n",
       "</div>"
      ],
      "text/plain": [
       "       patient_id  gender  age                       race      ESR1       PGR  \\\n",
       "0    TCGA-E2-A1IU  female   60                      white  Positive  Positive   \n",
       "1    TCGA-A2-A04W  female   50                      white  Negative  Negative   \n",
       "2    TCGA-A7-A26E  female   71                      white  Positive  Positive   \n",
       "3    TCGA-A8-A07W  female   76               not reported  Positive  Positive   \n",
       "4    TCGA-D8-A1XY  female   74                      white  Positive  Positive   \n",
       "..            ...     ...  ...                        ...       ...       ...   \n",
       "777  TCGA-D8-A147  female   45                      white  Negative  Negative   \n",
       "778  TCGA-B6-A40C  female   51                      white  Positive  Positive   \n",
       "779  TCGA-A2-A0CP  female   60                      white  Positive  Positive   \n",
       "780  TCGA-A2-A3XZ  female   46  black or african american  Negative  Negative   \n",
       "781  TCGA-E9-A295  female   71                      white  Positive  Positive   \n",
       "\n",
       "        ERBB2          subtype  \n",
       "0    Negative        Luminal A  \n",
       "1    Positive    HER2-enriched  \n",
       "2    Negative        Luminal A  \n",
       "3    Negative        Luminal A  \n",
       "4    Positive        Luminal B  \n",
       "..        ...              ...  \n",
       "777  Negative  Triple Negative  \n",
       "778  Negative        Luminal A  \n",
       "779  Negative        Luminal A  \n",
       "780  Positive    HER2-enriched  \n",
       "781  Positive        Luminal B  \n",
       "\n",
       "[782 rows x 8 columns]"
      ]
     },
     "execution_count": 2,
     "metadata": {},
     "output_type": "execute_result"
    }
   ],
   "source": [
    "import pandas as pd\n",
    "\n",
    "df = pd.read_csv('./datasets/filtered_data.csv')\n",
    "df"
   ]
  },
  {
   "cell_type": "markdown",
   "id": "ff6f203e",
   "metadata": {},
   "source": [
    "### Preprocessing"
   ]
  },
  {
   "cell_type": "code",
   "execution_count": 3,
   "id": "710c4029",
   "metadata": {},
   "outputs": [],
   "source": [
    "from sklearn.preprocessing import LabelEncoder\n",
    "\n",
    "df = df.drop(columns=['patient_id'])\n",
    "\n",
    "categorical_cols = ['gender', 'race', 'ESR1', 'PGR', 'ERBB2']\n",
    "label_encoders = {}\n",
    "\n",
    "for col in categorical_cols:\n",
    "    le = LabelEncoder()\n",
    "    df[col] = le.fit_transform(df[col])\n",
    "    label_encoders[col] = le  # Store encoder if needed later\n",
    "\n",
    "\n",
    "# Encode the target variable (subtype)\n",
    "target_encoder = LabelEncoder()\n",
    "df['subtype_encoded'] = target_encoder.fit_transform(df['subtype'])\n",
    "\n",
    "# Split features and labels\n",
    "X = df.drop(columns=['subtype_encoded'])\n",
    "y = df['subtype_encoded']"
   ]
  },
  {
   "cell_type": "markdown",
   "id": "63745e0e",
   "metadata": {},
   "source": [
    "### Export Preprocessed Data"
   ]
  },
  {
   "cell_type": "code",
   "execution_count": 4,
   "id": "86ef825e",
   "metadata": {},
   "outputs": [],
   "source": [
    "df.to_csv('./datasets/preprocessed_data.csv', index=False)\n",
    "\n",
    "import pickle\n",
    "\n",
    "with open('./datasets/subtype_encoder.pkl', 'wb') as f:\n",
    "    pickle.dump(target_encoder, f)"
   ]
  },
  {
   "cell_type": "markdown",
   "id": "249baab8",
   "metadata": {},
   "source": [
    "### Load Data"
   ]
  },
  {
   "cell_type": "code",
   "execution_count": 5,
   "id": "c0bbfcf3",
   "metadata": {},
   "outputs": [
    {
     "data": {
      "text/html": [
       "<div>\n",
       "<style scoped>\n",
       "    .dataframe tbody tr th:only-of-type {\n",
       "        vertical-align: middle;\n",
       "    }\n",
       "\n",
       "    .dataframe tbody tr th {\n",
       "        vertical-align: top;\n",
       "    }\n",
       "\n",
       "    .dataframe thead th {\n",
       "        text-align: right;\n",
       "    }\n",
       "</style>\n",
       "<table border=\"1\" class=\"dataframe\">\n",
       "  <thead>\n",
       "    <tr style=\"text-align: right;\">\n",
       "      <th></th>\n",
       "      <th>gender</th>\n",
       "      <th>age</th>\n",
       "      <th>race</th>\n",
       "      <th>ESR1</th>\n",
       "      <th>PGR</th>\n",
       "      <th>ERBB2</th>\n",
       "      <th>subtype</th>\n",
       "      <th>subtype_encoded</th>\n",
       "    </tr>\n",
       "  </thead>\n",
       "  <tbody>\n",
       "    <tr>\n",
       "      <th>0</th>\n",
       "      <td>0</td>\n",
       "      <td>60</td>\n",
       "      <td>4</td>\n",
       "      <td>2</td>\n",
       "      <td>1</td>\n",
       "      <td>0</td>\n",
       "      <td>Luminal A</td>\n",
       "      <td>1</td>\n",
       "    </tr>\n",
       "    <tr>\n",
       "      <th>1</th>\n",
       "      <td>0</td>\n",
       "      <td>50</td>\n",
       "      <td>4</td>\n",
       "      <td>1</td>\n",
       "      <td>0</td>\n",
       "      <td>1</td>\n",
       "      <td>HER2-enriched</td>\n",
       "      <td>0</td>\n",
       "    </tr>\n",
       "    <tr>\n",
       "      <th>2</th>\n",
       "      <td>0</td>\n",
       "      <td>71</td>\n",
       "      <td>4</td>\n",
       "      <td>2</td>\n",
       "      <td>1</td>\n",
       "      <td>0</td>\n",
       "      <td>Luminal A</td>\n",
       "      <td>1</td>\n",
       "    </tr>\n",
       "    <tr>\n",
       "      <th>3</th>\n",
       "      <td>0</td>\n",
       "      <td>76</td>\n",
       "      <td>3</td>\n",
       "      <td>2</td>\n",
       "      <td>1</td>\n",
       "      <td>0</td>\n",
       "      <td>Luminal A</td>\n",
       "      <td>1</td>\n",
       "    </tr>\n",
       "    <tr>\n",
       "      <th>4</th>\n",
       "      <td>0</td>\n",
       "      <td>74</td>\n",
       "      <td>4</td>\n",
       "      <td>2</td>\n",
       "      <td>1</td>\n",
       "      <td>1</td>\n",
       "      <td>Luminal B</td>\n",
       "      <td>2</td>\n",
       "    </tr>\n",
       "    <tr>\n",
       "      <th>...</th>\n",
       "      <td>...</td>\n",
       "      <td>...</td>\n",
       "      <td>...</td>\n",
       "      <td>...</td>\n",
       "      <td>...</td>\n",
       "      <td>...</td>\n",
       "      <td>...</td>\n",
       "      <td>...</td>\n",
       "    </tr>\n",
       "    <tr>\n",
       "      <th>777</th>\n",
       "      <td>0</td>\n",
       "      <td>45</td>\n",
       "      <td>4</td>\n",
       "      <td>1</td>\n",
       "      <td>0</td>\n",
       "      <td>0</td>\n",
       "      <td>Triple Negative</td>\n",
       "      <td>3</td>\n",
       "    </tr>\n",
       "    <tr>\n",
       "      <th>778</th>\n",
       "      <td>0</td>\n",
       "      <td>51</td>\n",
       "      <td>4</td>\n",
       "      <td>2</td>\n",
       "      <td>1</td>\n",
       "      <td>0</td>\n",
       "      <td>Luminal A</td>\n",
       "      <td>1</td>\n",
       "    </tr>\n",
       "    <tr>\n",
       "      <th>779</th>\n",
       "      <td>0</td>\n",
       "      <td>60</td>\n",
       "      <td>4</td>\n",
       "      <td>2</td>\n",
       "      <td>1</td>\n",
       "      <td>0</td>\n",
       "      <td>Luminal A</td>\n",
       "      <td>1</td>\n",
       "    </tr>\n",
       "    <tr>\n",
       "      <th>780</th>\n",
       "      <td>0</td>\n",
       "      <td>46</td>\n",
       "      <td>2</td>\n",
       "      <td>1</td>\n",
       "      <td>0</td>\n",
       "      <td>1</td>\n",
       "      <td>HER2-enriched</td>\n",
       "      <td>0</td>\n",
       "    </tr>\n",
       "    <tr>\n",
       "      <th>781</th>\n",
       "      <td>0</td>\n",
       "      <td>71</td>\n",
       "      <td>4</td>\n",
       "      <td>2</td>\n",
       "      <td>1</td>\n",
       "      <td>1</td>\n",
       "      <td>Luminal B</td>\n",
       "      <td>2</td>\n",
       "    </tr>\n",
       "  </tbody>\n",
       "</table>\n",
       "<p>782 rows × 8 columns</p>\n",
       "</div>"
      ],
      "text/plain": [
       "     gender  age  race  ESR1  PGR  ERBB2          subtype  subtype_encoded\n",
       "0         0   60     4     2    1      0        Luminal A                1\n",
       "1         0   50     4     1    0      1    HER2-enriched                0\n",
       "2         0   71     4     2    1      0        Luminal A                1\n",
       "3         0   76     3     2    1      0        Luminal A                1\n",
       "4         0   74     4     2    1      1        Luminal B                2\n",
       "..      ...  ...   ...   ...  ...    ...              ...              ...\n",
       "777       0   45     4     1    0      0  Triple Negative                3\n",
       "778       0   51     4     2    1      0        Luminal A                1\n",
       "779       0   60     4     2    1      0        Luminal A                1\n",
       "780       0   46     2     1    0      1    HER2-enriched                0\n",
       "781       0   71     4     2    1      1        Luminal B                2\n",
       "\n",
       "[782 rows x 8 columns]"
      ]
     },
     "execution_count": 5,
     "metadata": {},
     "output_type": "execute_result"
    }
   ],
   "source": [
    "# Load preprocessed data\n",
    "df = pd.read_csv('./datasets/preprocessed_data.csv')\n",
    "\n",
    "# Load label encoder\n",
    "with open('./datasets/subtype_encoder.pkl', 'rb') as f:\n",
    "    target_encoder = pickle.load(f)\n",
    "\n",
    "df"
   ]
  },
  {
   "cell_type": "markdown",
   "id": "48e288c4",
   "metadata": {},
   "source": [
    "### Train model"
   ]
  },
  {
   "cell_type": "code",
   "execution_count": 6,
   "id": "cb0f2ede",
   "metadata": {},
   "outputs": [
    {
     "name": "stdout",
     "output_type": "stream",
     "text": [
      "=== Random Forest ===\n",
      "                 precision    recall  f1-score   support\n",
      "\n",
      "  HER2-enriched       1.00      1.00      1.00         9\n",
      "      Luminal A       1.00      1.00      1.00        99\n",
      "      Luminal B       1.00      1.00      1.00        21\n",
      "Triple Negative       1.00      1.00      1.00        28\n",
      "\n",
      "       accuracy                           1.00       157\n",
      "      macro avg       1.00      1.00      1.00       157\n",
      "   weighted avg       1.00      1.00      1.00       157\n",
      "\n",
      "=== K-Nearest Neighbors ===\n",
      "                 precision    recall  f1-score   support\n",
      "\n",
      "  HER2-enriched       0.00      0.00      0.00         9\n",
      "      Luminal A       0.86      0.99      0.92        99\n",
      "      Luminal B       0.75      0.57      0.65        21\n",
      "Triple Negative       0.81      0.79      0.80        28\n",
      "\n",
      "       accuracy                           0.84       157\n",
      "      macro avg       0.61      0.59      0.59       157\n",
      "   weighted avg       0.79      0.84      0.81       157\n",
      "\n"
     ]
    },
    {
     "name": "stderr",
     "output_type": "stream",
     "text": [
      "c:\\Users\\parwe\\Documents\\MinorAi\\CapstoneProject\\venv\\lib\\site-packages\\sklearn\\metrics\\_classification.py:1565: UndefinedMetricWarning: Precision is ill-defined and being set to 0.0 in labels with no predicted samples. Use `zero_division` parameter to control this behavior.\n",
      "  _warn_prf(average, modifier, f\"{metric.capitalize()} is\", len(result))\n",
      "c:\\Users\\parwe\\Documents\\MinorAi\\CapstoneProject\\venv\\lib\\site-packages\\sklearn\\metrics\\_classification.py:1565: UndefinedMetricWarning: Precision is ill-defined and being set to 0.0 in labels with no predicted samples. Use `zero_division` parameter to control this behavior.\n",
      "  _warn_prf(average, modifier, f\"{metric.capitalize()} is\", len(result))\n",
      "c:\\Users\\parwe\\Documents\\MinorAi\\CapstoneProject\\venv\\lib\\site-packages\\sklearn\\metrics\\_classification.py:1565: UndefinedMetricWarning: Precision is ill-defined and being set to 0.0 in labels with no predicted samples. Use `zero_division` parameter to control this behavior.\n",
      "  _warn_prf(average, modifier, f\"{metric.capitalize()} is\", len(result))\n"
     ]
    }
   ],
   "source": [
    "from sklearn.model_selection import train_test_split\n",
    "from sklearn.ensemble import RandomForestClassifier\n",
    "from sklearn.neighbors import KNeighborsClassifier\n",
    "from sklearn.metrics import classification_report\n",
    "\n",
    "df = df.drop(columns=['subtype'])\n",
    "# Split features (X) and target (y)\n",
    "X = df.drop(columns=['subtype_encoded'])\n",
    "y = df['subtype_encoded']\n",
    "\n",
    "# Split into train/test\n",
    "X_train, X_test, y_train, y_test = train_test_split(X, y, test_size=0.2, random_state=42)\n",
    "\n",
    "# Initialize models\n",
    "rf = RandomForestClassifier(random_state=42)\n",
    "knn = KNeighborsClassifier()\n",
    "\n",
    "# Train models\n",
    "rf.fit(X_train, y_train)\n",
    "knn.fit(X_train, y_train)\n",
    "\n",
    "# Predict\n",
    "rf_preds = rf.predict(X_test)\n",
    "knn_preds = knn.predict(X_test)\n",
    "\n",
    "# Evaluate\n",
    "print(\"=== Random Forest ===\")\n",
    "print(classification_report(y_test, rf_preds, target_names=target_encoder.classes_))\n",
    "\n",
    "print(\"=== K-Nearest Neighbors ===\")\n",
    "print(classification_report(y_test, knn_preds, target_names=target_encoder.classes_))"
   ]
  },
  {
   "cell_type": "markdown",
   "id": "366919b1",
   "metadata": {},
   "source": [
    "### Cross-Validation and Metrics"
   ]
  },
  {
   "cell_type": "code",
   "execution_count": 7,
   "id": "5a4a2d62",
   "metadata": {},
   "outputs": [
    {
     "name": "stdout",
     "output_type": "stream",
     "text": [
      "Random Forest - F1 (weighted) CV score: 0.9987 (+/- 0.0025)\n",
      "K-Nearest Neighbors - F1 (weighted) CV score: 0.7806 (+/- 0.0329)\n",
      "Logistic Regression - F1 (weighted) CV score: 0.9987 (+/- 0.0025)\n",
      "SVC (Linear) - F1 (weighted) CV score: 0.9987 (+/- 0.0025)\n",
      "SVC (RBF) - F1 (weighted) CV score: 0.4342 (+/- 0.0030)\n"
     ]
    }
   ],
   "source": [
    "from sklearn.model_selection import cross_val_score\n",
    "from sklearn.linear_model import LogisticRegression\n",
    "from sklearn.svm import SVC\n",
    "\n",
    "models = {\n",
    "    'Random Forest': RandomForestClassifier(random_state=42),\n",
    "    'K-Nearest Neighbors': KNeighborsClassifier(),\n",
    "    'Logistic Regression': LogisticRegression(max_iter=1000),\n",
    "    'SVC (Linear)': SVC(kernel='linear'),\n",
    "    'SVC (RBF)': SVC(kernel='rbf')\n",
    "}\n",
    "\n",
    "for name, model in models.items():\n",
    "    scores = cross_val_score(model, X, y, cv=5, scoring='f1_weighted')\n",
    "    print(f\"{name} - F1 (weighted) CV score: {scores.mean():.4f} (+/- {scores.std():.4f})\")"
   ]
  },
  {
   "cell_type": "markdown",
   "id": "671ad186",
   "metadata": {},
   "source": [
    "### Hyperparameter Tuning"
   ]
  },
  {
   "cell_type": "code",
   "execution_count": 8,
   "id": "54b7518e",
   "metadata": {},
   "outputs": [
    {
     "name": "stdout",
     "output_type": "stream",
     "text": [
      "Fitting 5 folds for each of 108 candidates, totalling 540 fits\n",
      "Best Parameters: {'max_depth': 3, 'min_samples_leaf': 1, 'min_samples_split': 2, 'n_estimators': 50}\n",
      "Best F1 (weighted): 0.9987440010969422\n"
     ]
    }
   ],
   "source": [
    "from sklearn.model_selection import GridSearchCV\n",
    "\n",
    "# Define parameter grid for tuning\n",
    "param_grid = {\n",
    "    'n_estimators': [50, 100, 200],\n",
    "    'max_depth': [3, 5, 10, None],\n",
    "    'min_samples_split': [2, 5, 10],\n",
    "    'min_samples_leaf': [1, 2, 4]\n",
    "}\n",
    "\n",
    "# Initialize base model\n",
    "rf = RandomForestClassifier(random_state=42)\n",
    "\n",
    "# Setup GridSearchCV\n",
    "grid_search = GridSearchCV(estimator=rf,\n",
    "                           param_grid=param_grid,\n",
    "                           cv=5,\n",
    "                           scoring='f1_weighted',\n",
    "                           n_jobs=-1,\n",
    "                           verbose=1)\n",
    "\n",
    "# Run the grid search\n",
    "grid_search.fit(X, y)\n",
    "\n",
    "# Show best results\n",
    "print(\"Best Parameters:\", grid_search.best_params_)\n",
    "print(\"Best F1 (weighted):\", grid_search.best_score_)\n"
   ]
  },
  {
   "cell_type": "markdown",
   "id": "11273e70",
   "metadata": {},
   "source": [
    "### Final Prediction"
   ]
  },
  {
   "cell_type": "code",
   "execution_count": 9,
   "id": "b918b0d3",
   "metadata": {},
   "outputs": [
    {
     "name": "stdout",
     "output_type": "stream",
     "text": [
      "                 precision    recall  f1-score   support\n",
      "\n",
      "  HER2-enriched       0.97      1.00      0.99        39\n",
      "      Luminal A       1.00      1.00      1.00       459\n",
      "      Luminal B       1.00      0.99      1.00       137\n",
      "Triple Negative       1.00      1.00      1.00       147\n",
      "\n",
      "       accuracy                           1.00       782\n",
      "      macro avg       0.99      1.00      1.00       782\n",
      "   weighted avg       1.00      1.00      1.00       782\n",
      "\n"
     ]
    }
   ],
   "source": [
    "# Final model (already fitted during GridSearchCV)\n",
    "best_model = grid_search.best_estimator_\n",
    "\n",
    "# Predict on the full feature set\n",
    "y_pred = best_model.predict(X)\n",
    "\n",
    "# Optional: Evaluate how well it fits the entire dataset\n",
    "from sklearn.metrics import classification_report\n",
    "\n",
    "print(classification_report(y, y_pred, target_names=target_encoder.classes_))"
   ]
  },
  {
   "cell_type": "markdown",
   "id": "cb99bfef",
   "metadata": {},
   "source": [
    "### Feature Importance Plot"
   ]
  },
  {
   "cell_type": "code",
   "execution_count": 10,
   "id": "6ed0db25",
   "metadata": {},
   "outputs": [
    {
     "data": {
      "image/png": "[encoded data removed]",
      "text/plain": [
       "<Figure size 800x500 with 1 Axes>"
      ]
     },
     "metadata": {},
     "output_type": "display_data"
    }
   ],
   "source": [
    "import matplotlib.pyplot as plt\n",
    "\n",
    "# Get feature importances\n",
    "importances = best_model.feature_importances_\n",
    "features = X.columns\n",
    "\n",
    "# Plot\n",
    "plt.figure(figsize=(8, 5))\n",
    "plt.barh(features, importances)\n",
    "plt.xlabel(\"Feature Importance\")\n",
    "plt.title(\"Random Forest Feature Importance\")\n",
    "plt.tight_layout()\n",
    "plt.show()\n"
   ]
  },
  {
   "cell_type": "markdown",
   "id": "e159c236",
   "metadata": {},
   "source": [
    "### Export Trained Model and Encoders"
   ]
  },
  {
   "cell_type": "code",
   "execution_count": 12,
   "id": "a60e513e",
   "metadata": {},
   "outputs": [],
   "source": [
    "import pickle\n",
    "\n",
    "# Save model\n",
    "with open('./models/trained_rf_model.pkl', 'wb') as f:\n",
    "    pickle.dump(best_model, f)\n",
    "\n",
    "# Save the subtype encoder\n",
    "with open('./models/subtype_encoder.pkl', 'wb') as f:\n",
    "    pickle.dump(target_encoder, f)\n",
    "\n",
    "# Save feature encoders if needed\n",
    "with open('./models/feature_encoders.pkl', 'wb') as f:\n",
    "    pickle.dump(label_encoders, f)  # From earlier preprocessing"
   ]
  },
  {
   "cell_type": "markdown",
   "id": "8739ce42",
   "metadata": {},
   "source": [
    "### Reload model"
   ]
  },
  {
   "cell_type": "code",
   "execution_count": 13,
   "id": "3feb4ad7",
   "metadata": {},
   "outputs": [],
   "source": [
    "with open('./models/trained_rf_model.pkl', 'rb') as f:\n",
    "    model = pickle.load(f)"
   ]
  },
  {
   "cell_type": "markdown",
   "id": "a196e8d7",
   "metadata": {},
   "source": [
    "### Testing"
   ]
  },
  {
   "cell_type": "markdown",
   "id": "34e4a41f",
   "metadata": {},
   "source": [
    "#### Internal Testing"
   ]
  },
  {
   "cell_type": "code",
   "execution_count": 15,
   "id": "eba5ff9a",
   "metadata": {},
   "outputs": [
    {
     "name": "stdout",
     "output_type": "stream",
     "text": [
      "Sample:    gender  age  race  ESR1  PGR  ERBB2\n",
      "0       0   60     4     2    1      0\n",
      "1       0   50     4     1    0      1\n",
      "2       0   71     4     2    1      0\n",
      "3       0   76     3     2    1      0\n",
      "4       0   74     4     2    1      1\n",
      "Predicted subtypes: ['Luminal A' 'HER2-enriched' 'Luminal A' 'Luminal A' 'Luminal B']\n"
     ]
    }
   ],
   "source": [
    "# Predict a few examples (e.g., first 5)\n",
    "X_test_sample = X.iloc[:5]\n",
    "y_pred = best_model.predict(X_test_sample)\n",
    "\n",
    "# Decode predictions\n",
    "decoded_preds = target_encoder.inverse_transform(y_pred)\n",
    "print(\"Sample:\", X_test_sample)\n",
    "print(\"Predicted subtypes:\", decoded_preds)\n"
   ]
  },
  {
   "cell_type": "markdown",
   "id": "f3f290c0",
   "metadata": {},
   "source": [
    "#### External Testing"
   ]
  },
  {
   "cell_type": "code",
   "execution_count": 16,
   "id": "5b663910",
   "metadata": {},
   "outputs": [
    {
     "name": "stdout",
     "output_type": "stream",
     "text": [
      "Patient data:    gender  age  race  ESR1  PGR  ERBB2\n",
      "0       0   55     4     2    1      0\n",
      "Predicted Subtype: Luminal A\n"
     ]
    }
   ],
   "source": [
    "new_patient = pd.DataFrame([{\n",
    "    'gender': label_encoders['gender'].transform(['female'])[0],\n",
    "    'age': 55,\n",
    "    'race': label_encoders['race'].transform(['white'])[0],\n",
    "    'ESR1': label_encoders['ESR1'].transform(['Positive'])[0],\n",
    "    'PGR': label_encoders['PGR'].transform(['Positive'])[0],\n",
    "    'ERBB2': label_encoders['ERBB2'].transform(['Negative'])[0]\n",
    "}])\n",
    "\n",
    "\n",
    "# Predict\n",
    "pred = best_model.predict(new_patient)\n",
    "pred_label = target_encoder.inverse_transform(pred)\n",
    "print(\"Patient data:\" , new_patient)\n",
    "print(\"Predicted Subtype:\", pred_label[0])"
   ]
  },
  {
   "cell_type": "code",
   "execution_count": null,
   "id": "f7bfcb3a",
   "metadata": {},
   "outputs": [],
   "source": []
  }
 ],
 "metadata": {
  "kernelspec": {
   "display_name": "venv",
   "language": "python",
   "name": "python3"
  },
  "language_info": {
   "codemirror_mode": {
    "name": "ipython",
    "version": 3
   },
   "file_extension": ".py",
   "mimetype": "text/x-python",
   "name": "python",
   "nbconvert_exporter": "python",
   "pygments_lexer": "ipython3",
   "version": "3.9.4"
  }
 },
 "nbformat": 4,
 "nbformat_minor": 5
}
